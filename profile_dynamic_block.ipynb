{
 "cells": [
  {
   "cell_type": "code",
   "execution_count": 1,
   "id": "52f18c1b-2918-4bea-bc95-46e524882685",
   "metadata": {},
   "outputs": [],
   "source": [
    "import torch\n",
    "import json\n",
    "import math\n",
    "import hiq\n",
    "import torch.nn as nn\n",
    "import torch.nn.functional as F\n",
    "\n",
    "from pathlib import Path\n",
    "\n",
    "from llama import ModelArgs, Transformer, Tokenizer, LLaMA\n",
    "from llama.generation import sample_top_p"
   ]
  },
  {
   "cell_type": "markdown",
   "id": "bcde4793-7e8b-44ec-a182-b81665d3c5ee",
   "metadata": {},
   "source": [
    "### load checkpoint"
   ]
  },
  {
   "cell_type": "markdown",
   "id": "83a0474a-67b7-48d4-aa68-6667e73d31f9",
   "metadata": {},
   "source": [
    "checkpoint = torch.load('../7B/consolidated.00.pth', map_location=\"cpu\")"
   ]
  },
  {
   "cell_type": "code",
   "execution_count": 2,
   "id": "42a0bc8a-c7fe-41ab-a655-b5c3b40236a1",
   "metadata": {},
   "outputs": [],
   "source": [
    "with open('../7B/params.json', \"r\") as f:\n",
    "    params = json.loads(f.read())"
   ]
  },
  {
   "cell_type": "markdown",
   "id": "56aaf9a5-1b02-499f-94ca-93173e873297",
   "metadata": {},
   "source": [
    "### Initialize model"
   ]
  },
  {
   "cell_type": "code",
   "execution_count": 3,
   "id": "119a443f-b1d6-49f1-b815-9076068516e5",
   "metadata": {},
   "outputs": [],
   "source": [
    "model_args: ModelArgs = ModelArgs(\n",
    "    max_seq_len=512, max_batch_size=1, **params\n",
    ")\n",
    "tokenizer = Tokenizer('../tokenizer.model')\n",
    "model_args.vocab_size = tokenizer.n_words\n",
    "torch.set_default_tensor_type(torch.cuda.HalfTensor)\n",
    "model = Transformer(model_args)\n",
    "torch.set_default_tensor_type(torch.FloatTensor)\n",
    "#model.load_state_dict(checkpoint,strict= False)\n",
    "\n",
    "generator = LLaMA(model, tokenizer)"
   ]
  },
  {
   "cell_type": "code",
   "execution_count": 4,
   "id": "19da2da0-c46f-4510-8cbb-6f9ae68dd148",
   "metadata": {},
   "outputs": [],
   "source": [
    "temperature: float = 0.8\n",
    "top_p: float = 0.95\n",
    "max_seq_len=512\n",
    "max_batch_size=1"
   ]
  },
  {
   "cell_type": "markdown",
   "id": "b4503cca-77d2-4e55-9c74-bd6c6b29e939",
   "metadata": {},
   "source": [
    "### Generate internative input "
   ]
  },
  {
   "cell_type": "code",
   "execution_count": 14,
   "id": "40d9f659-fe8f-472b-82e2-c96870745347",
   "metadata": {},
   "outputs": [],
   "source": [
    "h = torch.randn((1,8,4096), dtype = torch.float16)"
   ]
  },
  {
   "cell_type": "code",
   "execution_count": 15,
   "id": "c4bcea33-b8c1-4222-b2b5-31bbed075ce2",
   "metadata": {},
   "outputs": [],
   "source": [
    "freqs_r = torch.randn((8,64,2), dtype = torch.float32)"
   ]
  },
  {
   "cell_type": "code",
   "execution_count": 16,
   "id": "7c74abd3-633d-4085-b746-20c896ee343c",
   "metadata": {},
   "outputs": [],
   "source": [
    "start_pos = 262\n",
    "mask = None"
   ]
  },
  {
   "cell_type": "code",
   "execution_count": 17,
   "id": "23acab0c-8a15-4433-843b-4d152c2d3b39",
   "metadata": {},
   "outputs": [],
   "source": [
    "import thop\n",
    "from thop import clever_format"
   ]
  },
  {
   "cell_type": "code",
   "execution_count": 18,
   "id": "8d2e64ee-29db-45e9-8f9c-af25a9366314",
   "metadata": {},
   "outputs": [
    {
     "name": "stdout",
     "output_type": "stream",
     "text": [
      "[INFO] Register count_linear() for <class 'torch.nn.modules.linear.Linear'>.\n"
     ]
    }
   ],
   "source": [
    "macs, _ = thop.profile(model.layers[0], (h.cuda(), start_pos, freqs_r.cuda(), mask))"
   ]
  },
  {
   "cell_type": "code",
   "execution_count": 19,
   "id": "ac8190dd-37c5-437e-b1b0-e48ad004eeb0",
   "metadata": {},
   "outputs": [
    {
     "data": {
      "text/plain": [
       "1619001344.0"
      ]
     },
     "execution_count": 19,
     "metadata": {},
     "output_type": "execute_result"
    }
   ],
   "source": [
    "macs"
   ]
  },
  {
   "cell_type": "code",
   "execution_count": null,
   "id": "1ea890c0-00c7-40f5-a727-2f45ed9633e7",
   "metadata": {},
   "outputs": [],
   "source": []
  }
 ],
 "metadata": {
  "kernelspec": {
   "display_name": "Python 3",
   "language": "python",
   "name": "python3"
  },
  "language_info": {
   "codemirror_mode": {
    "name": "ipython",
    "version": 3
   },
   "file_extension": ".py",
   "mimetype": "text/x-python",
   "name": "python",
   "nbconvert_exporter": "python",
   "pygments_lexer": "ipython3",
   "version": "3.8.16"
  }
 },
 "nbformat": 4,
 "nbformat_minor": 5
}
